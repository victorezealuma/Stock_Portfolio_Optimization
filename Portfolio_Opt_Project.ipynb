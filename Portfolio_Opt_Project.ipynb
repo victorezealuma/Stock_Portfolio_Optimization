{
  "nbformat": 4,
  "nbformat_minor": 0,
  "metadata": {
    "colab": {
      "provenance": [],
      "authorship_tag": "ABX9TyPgC/IyzpgKBNpWSjf/AtS/",
      "include_colab_link": true
    },
    "kernelspec": {
      "name": "python3",
      "display_name": "Python 3"
    },
    "language_info": {
      "name": "python"
    }
  },
  "cells": [
    {
      "cell_type": "markdown",
      "metadata": {
        "id": "view-in-github",
        "colab_type": "text"
      },
      "source": [
        "<a href=\"https://colab.research.google.com/github/victorezealuma/Stock_Portfolio_Optimization/blob/main/Portfolio_Opt_Project.ipynb\" target=\"_parent\"><img src=\"https://colab.research.google.com/assets/colab-badge.svg\" alt=\"Open In Colab\"/></a>"
      ]
    },
    {
      "cell_type": "code",
      "execution_count": null,
      "metadata": {
        "id": "o-smNTiKR7W1"
      },
      "outputs": [],
      "source": [
        "#Description: This project Optmizes a portfolio using the efficient frontier"
      ]
    },
    {
      "cell_type": "code",
      "source": [
        "#Import some necessary python libraries\n",
        "\n",
        "from pandas_datareader import data as pdr\n",
        "import yfinance as yf\n",
        "import pandas as pd\n",
        "import numpy as np\n",
        "from datetime import datetime\n",
        "import matplotlib.pyplot as plt\n",
        "plt.style.use('fivethirtyeight')"
      ],
      "metadata": {
        "id": "g6AZD3WTTDVd"
      },
      "execution_count": 71,
      "outputs": []
    },
    {
      "cell_type": "code",
      "source": [
        "#Get the stock tickers in the portfoilo\n",
        "#ticker_list = ['BA','WMT','CVX','CRM','CMCSA']\n",
        "ticker_list = [\"AAPL\", \"GOOG\", \"MSFT\", \"AMZN\", \"TSLA\"]\n"
      ],
      "metadata": {
        "id": "mec1wdd_Uwyw"
      },
      "execution_count": 72,
      "outputs": []
    },
    {
      "cell_type": "code",
      "source": [
        "#Weight Assignment of stocks(All weights must equal 1)\n",
        "weights = np.array([0.2, 0.2, 0.2, 0.2, 0.2])"
      ],
      "metadata": {
        "id": "JnVpgov-VtO0"
      },
      "execution_count": null,
      "outputs": []
    },
    {
      "cell_type": "code",
      "source": [
        "#Get portfolio start date and end date\n",
        "startDate = '2019-01-01'\n",
        "today = datetime.today().strftime('%Y-%m-%d')\n",
        "today"
      ],
      "metadata": {
        "colab": {
          "base_uri": "https://localhost:8080/",
          "height": 36
        },
        "id": "6BnrI7npWcgv",
        "outputId": "dd397b80-ce9e-4072-95ab-7f80f9f52d06"
      },
      "execution_count": null,
      "outputs": [
        {
          "output_type": "execute_result",
          "data": {
            "text/plain": [
              "'2023-10-30'"
            ],
            "application/vnd.google.colaboratory.intrinsic+json": {
              "type": "string"
            }
          },
          "metadata": {},
          "execution_count": 22
        }
      ]
    },
    {
      "cell_type": "code",
      "source": [
        "# Create a DataFrame to store the historical price data\n",
        "df = pd.DataFrame()\n",
        "\n",
        "#Download the historical price data for each stock and store it in the DataFrame\n",
        "for stock in tickers:\n",
        "  df_stock = web.DataReader(stock, data_source='yahoo', start=startDate, end=today)['Adj Close']\n",
        "  #df[stock] = df_stock\n",
        "\n",
        "# Print the DataFrame\n",
        "print(df)"
      ],
      "metadata": {
        "id": "79BMlAgTI0HF"
      },
      "execution_count": null,
      "outputs": []
    }
  ]
}